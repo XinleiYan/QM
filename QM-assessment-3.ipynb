{
 "cells": [
  {
   "cell_type": "code",
   "execution_count": null,
   "id": "7cc526d2-c9a2-4c58-b8ac-e2e91d6b8ac6",
   "metadata": {},
   "outputs": [],
   "source": []
  },
  {
   "cell_type": "code",
   "execution_count": 1,
   "id": "f57bca3e-5402-4f84-a339-c8e299981134",
   "metadata": {},
   "outputs": [],
   "source": [
    "import numpy as np\n",
    "import pandas as pd\n",
    "import geopandas as gpd\n",
    "import seaborn as sns\n",
    "import matplotlib.pyplot as plt\n",
    "import matplotlib.cm as cm\n",
    "import matplotlib as mpl\n",
    "import re\n",
    "import os\n",
    "%matplotlib inline\n",
    "from mgwr.sel_bw import Sel_BW\n",
    "from mgwr.gwr import GWR, MGWR\n",
    "from pandas.core.frame import DataFrame\n",
    "from statsmodels.stats.outliers_influence import variance_inflation_factor \n",
    "from sklearn.linear_model import LinearRegression\n",
    "import statsmodels.api as sm"
   ]
  },
  {
   "cell_type": "markdown",
   "id": "c6969a31-14cc-4d44-9316-88c48e7c599e",
   "metadata": {},
   "source": [
    "## Read files"
   ]
  },
  {
   "cell_type": "code",
   "execution_count": 2,
   "id": "360650b6-affc-4454-ba33-0b0e93bb8eb5",
   "metadata": {},
   "outputs": [],
   "source": [
    "path = os.path.join('MSOA')\n",
    "vac_fn = 'vaccination.csv'\n",
    "data = pd.read_csv(os.path.join(path,vac_fn), low_memory=False)"
   ]
  },
  {
   "cell_type": "code",
   "execution_count": null,
   "id": "f9f03d85-281c-4c31-b174-adb59f8c8307",
   "metadata": {},
   "outputs": [],
   "source": []
  },
  {
   "cell_type": "code",
   "execution_count": 3,
   "id": "8636c4f5-b0a9-4c53-b6cb-c78fc452adc1",
   "metadata": {},
   "outputs": [],
   "source": [
    "case_fn = 'case.csv'\n",
    "case = pd.read_csv(os.path.join(path,case_fn), low_memory=False)"
   ]
  },
  {
   "cell_type": "code",
   "execution_count": 4,
   "id": "0e3bcf9b-f746-4f1b-a9f4-9204296fdeff",
   "metadata": {},
   "outputs": [
    {
     "name": "stdout",
     "output_type": "stream",
     "text": [
      "<class 'pandas.core.frame.DataFrame'>\n",
      "Int64Index: 6372 entries, 0 to 6371\n",
      "Data columns (total 9 columns):\n",
      " #   Column       Non-Null Count  Dtype  \n",
      "---  ------       --------------  -----  \n",
      " 0   Region code  6372 non-null   object \n",
      " 1   Region name  6372 non-null   object \n",
      " 2   LTLA code    6372 non-null   object \n",
      " 3   LTLA name    6372 non-null   object \n",
      " 4   MSOA code    6372 non-null   object \n",
      " 5   MSOA name    6372 non-null   object \n",
      " 6   3rdvac       6372 non-null   int64  \n",
      " 7   Case number  6372 non-null   int64  \n",
      " 8   Case rate    6372 non-null   float64\n",
      "dtypes: float64(1), int64(2), object(6)\n",
      "memory usage: 497.8+ KB\n"
     ]
    }
   ],
   "source": [
    "data = pd.merge(data, case, how='inner',  left_on='LTLA name', right_on='LTLA name', sort=True)\n",
    "data.info()"
   ]
  },
  {
   "cell_type": "code",
   "execution_count": null,
   "id": "afa78985-c8db-45de-952c-0fe30c98fe61",
   "metadata": {},
   "outputs": [],
   "source": []
  },
  {
   "cell_type": "code",
   "execution_count": 5,
   "id": "a137f25b-c902-48e1-96bb-249123c16bac",
   "metadata": {},
   "outputs": [
    {
     "name": "stdout",
     "output_type": "stream",
     "text": [
      "<class 'pandas.core.frame.DataFrame'>\n",
      "Int64Index: 6372 entries, 0 to 6371\n",
      "Data columns (total 11 columns):\n",
      " #   Column       Non-Null Count  Dtype  \n",
      "---  ------       --------------  -----  \n",
      " 0   Region code  6372 non-null   object \n",
      " 1   Region name  6372 non-null   object \n",
      " 2   LTLA code    6372 non-null   object \n",
      " 3   LTLA name    6372 non-null   object \n",
      " 4   MSOA code    6372 non-null   object \n",
      " 5   MSOA name    6372 non-null   object \n",
      " 6   3rdvac       6372 non-null   int64  \n",
      " 7   Case number  6372 non-null   int64  \n",
      " 8   Case rate    6372 non-null   float64\n",
      " 9   Death case   6372 non-null   int64  \n",
      " 10  Death rate   6372 non-null   float64\n",
      "dtypes: float64(2), int64(3), object(6)\n",
      "memory usage: 597.4+ KB\n"
     ]
    }
   ],
   "source": [
    "death_fn = 'death.csv'\n",
    "death = pd.read_csv(os.path.join(path,death_fn), low_memory=False)\n",
    "data = pd.merge(data, death, how='inner',  left_on='LTLA name', right_on='LTLA name', sort=True)\n",
    "data.info()"
   ]
  },
  {
   "cell_type": "code",
   "execution_count": null,
   "id": "0309c3c2-497d-4016-9f5b-e805cc375e64",
   "metadata": {},
   "outputs": [],
   "source": []
  },
  {
   "cell_type": "code",
   "execution_count": 6,
   "id": "7951c824-cf71-447f-b591-fce40b24082b",
   "metadata": {},
   "outputs": [
    {
     "name": "stdout",
     "output_type": "stream",
     "text": [
      "<class 'pandas.core.frame.DataFrame'>\n",
      "Int64Index: 6372 entries, 0 to 6371\n",
      "Data columns (total 22 columns):\n",
      " #   Column                     Non-Null Count  Dtype  \n",
      "---  ------                     --------------  -----  \n",
      " 0   Region code                6372 non-null   object \n",
      " 1   Region name                6372 non-null   object \n",
      " 2   LTLA code                  6372 non-null   object \n",
      " 3   LTLA name                  6372 non-null   object \n",
      " 4   MSOA code                  6372 non-null   object \n",
      " 5   MSOA name                  6372 non-null   object \n",
      " 6   3rdvac                     6372 non-null   int64  \n",
      " 7   Case number                6372 non-null   int64  \n",
      " 8   Case rate                  6372 non-null   float64\n",
      " 9   Death case                 6372 non-null   int64  \n",
      " 10  Death rate                 6372 non-null   float64\n",
      " 11  MSOA Code                  6372 non-null   object \n",
      " 12  MSOA Name                  6372 non-null   object \n",
      " 13  LA Code (2018 boundaries)  6372 non-null   object \n",
      " 14  LA name (2018 boundaries)  6372 non-null   object \n",
      " 15  All Ages                   6372 non-null   int64  \n",
      " 16  12-                        6372 non-null   float64\n",
      " 17  13-20                      6372 non-null   float64\n",
      " 18  21-30                      6372 non-null   float64\n",
      " 19  31-45                      6372 non-null   float64\n",
      " 20  46-60                      6372 non-null   float64\n",
      " 21  60+                        6372 non-null   float64\n",
      "dtypes: float64(8), int64(4), object(10)\n",
      "memory usage: 1.1+ MB\n"
     ]
    }
   ],
   "source": [
    "age_fn = 'age.csv'\n",
    "age = pd.read_csv(os.path.join(path,age_fn), low_memory=False)\n",
    "data = pd.merge(data, age, how='inner',  left_on='MSOA code', right_on='MSOA Code', sort=True)\n",
    "data.info()"
   ]
  },
  {
   "cell_type": "code",
   "execution_count": null,
   "id": "883220aa-2a36-4a46-9641-af604b0018dc",
   "metadata": {},
   "outputs": [],
   "source": []
  },
  {
   "cell_type": "code",
   "execution_count": 7,
   "id": "8c1931b2-4299-4e7c-9906-90466e642be7",
   "metadata": {},
   "outputs": [
    {
     "name": "stdout",
     "output_type": "stream",
     "text": [
      "<class 'pandas.core.frame.DataFrame'>\n",
      "Int64Index: 6371 entries, 0 to 6370\n",
      "Data columns (total 25 columns):\n",
      " #   Column                     Non-Null Count  Dtype  \n",
      "---  ------                     --------------  -----  \n",
      " 0   Region code                6371 non-null   object \n",
      " 1   Region name                6371 non-null   object \n",
      " 2   LTLA code                  6371 non-null   object \n",
      " 3   LTLA name                  6371 non-null   object \n",
      " 4   MSOA code                  6371 non-null   object \n",
      " 5   MSOA name                  6371 non-null   object \n",
      " 6   3rdvac                     6371 non-null   int64  \n",
      " 7   Case number                6371 non-null   int64  \n",
      " 8   Case rate                  6371 non-null   float64\n",
      " 9   Death case                 6371 non-null   int64  \n",
      " 10  Death rate                 6371 non-null   float64\n",
      " 11  MSOA Code                  6371 non-null   object \n",
      " 12  MSOA Name                  6371 non-null   object \n",
      " 13  LA Code (2018 boundaries)  6371 non-null   object \n",
      " 14  LA name (2018 boundaries)  6371 non-null   object \n",
      " 15  All Ages                   6371 non-null   int64  \n",
      " 16  12-                        6371 non-null   float64\n",
      " 17  13-20                      6371 non-null   float64\n",
      " 18  21-30                      6371 non-null   float64\n",
      " 19  31-45                      6371 non-null   float64\n",
      " 20  46-60                      6371 non-null   float64\n",
      " 21  60+                        6371 non-null   float64\n",
      " 22  code                       6371 non-null   object \n",
      " 23  name                       6371 non-null   object \n",
      " 24  employment                 6371 non-null   float64\n",
      "dtypes: float64(9), int64(4), object(12)\n",
      "memory usage: 1.3+ MB\n"
     ]
    }
   ],
   "source": [
    "employment_fn = 'employment.csv'\n",
    "employment = pd.read_csv(os.path.join(path,employment_fn), low_memory=False)\n",
    "data = pd.merge(data, employment, how='inner',  left_on='MSOA code', right_on='code', sort=True)\n",
    "data.info()"
   ]
  },
  {
   "cell_type": "code",
   "execution_count": null,
   "id": "bba2fe2f-6ffa-4020-96cf-c9767f8b3aaa",
   "metadata": {},
   "outputs": [],
   "source": []
  },
  {
   "cell_type": "code",
   "execution_count": 8,
   "id": "cb466c24-ac04-417f-9e65-9b5fc5b9a4b6",
   "metadata": {},
   "outputs": [
    {
     "name": "stdout",
     "output_type": "stream",
     "text": [
      "<class 'pandas.core.frame.DataFrame'>\n",
      "Int64Index: 6371 entries, 0 to 6370\n",
      "Data columns (total 27 columns):\n",
      " #   Column                     Non-Null Count  Dtype  \n",
      "---  ------                     --------------  -----  \n",
      " 0   Region code                6371 non-null   object \n",
      " 1   Region name                6371 non-null   object \n",
      " 2   LTLA code                  6371 non-null   object \n",
      " 3   LTLA name                  6371 non-null   object \n",
      " 4   MSOA code                  6371 non-null   object \n",
      " 5   MSOA name                  6371 non-null   object \n",
      " 6   3rdvac                     6371 non-null   int64  \n",
      " 7   Case number                6371 non-null   int64  \n",
      " 8   Case rate                  6371 non-null   float64\n",
      " 9   Death case                 6371 non-null   int64  \n",
      " 10  Death rate                 6371 non-null   float64\n",
      " 11  MSOA Code                  6371 non-null   object \n",
      " 12  MSOA Name                  6371 non-null   object \n",
      " 13  LA Code (2018 boundaries)  6371 non-null   object \n",
      " 14  LA name (2018 boundaries)  6371 non-null   object \n",
      " 15  All Ages                   6371 non-null   int64  \n",
      " 16  12-                        6371 non-null   float64\n",
      " 17  13-20                      6371 non-null   float64\n",
      " 18  21-30                      6371 non-null   float64\n",
      " 19  31-45                      6371 non-null   float64\n",
      " 20  46-60                      6371 non-null   float64\n",
      " 21  60+                        6371 non-null   float64\n",
      " 22  code_x                     6371 non-null   object \n",
      " 23  name                       6371 non-null   object \n",
      " 24  employment                 6371 non-null   float64\n",
      " 25  code_y                     6371 non-null   object \n",
      " 26  enterprise                 6371 non-null   float64\n",
      "dtypes: float64(10), int64(4), object(13)\n",
      "memory usage: 1.4+ MB\n"
     ]
    }
   ],
   "source": [
    "enterprise_fn = 'enterprise.csv'\n",
    "enterprise = pd.read_csv(os.path.join(path,enterprise_fn), low_memory=False)\n",
    "data = pd.merge(data, enterprise, how='inner',  left_on='MSOA code', right_on='code', sort=True)\n",
    "data.info()"
   ]
  },
  {
   "cell_type": "code",
   "execution_count": null,
   "id": "5cc907d7-b0d3-4f1d-b2bd-41267d8eb819",
   "metadata": {},
   "outputs": [],
   "source": []
  },
  {
   "cell_type": "code",
   "execution_count": 9,
   "id": "db5179c7-52b5-40c5-86cb-6daee30e5782",
   "metadata": {},
   "outputs": [
    {
     "name": "stdout",
     "output_type": "stream",
     "text": [
      "<class 'pandas.core.frame.DataFrame'>\n",
      "Int64Index: 6371 entries, 0 to 6370\n",
      "Data columns (total 29 columns):\n",
      " #   Column                     Non-Null Count  Dtype  \n",
      "---  ------                     --------------  -----  \n",
      " 0   Region code                6371 non-null   object \n",
      " 1   Region name                6371 non-null   object \n",
      " 2   LTLA code                  6371 non-null   object \n",
      " 3   LTLA name                  6371 non-null   object \n",
      " 4   MSOA code                  6371 non-null   object \n",
      " 5   MSOA name                  6371 non-null   object \n",
      " 6   3rdvac                     6371 non-null   int64  \n",
      " 7   Case number                6371 non-null   int64  \n",
      " 8   Case rate                  6371 non-null   float64\n",
      " 9   Death case                 6371 non-null   int64  \n",
      " 10  Death rate                 6371 non-null   float64\n",
      " 11  MSOA Code                  6371 non-null   object \n",
      " 12  MSOA Name                  6371 non-null   object \n",
      " 13  LA Code (2018 boundaries)  6371 non-null   object \n",
      " 14  LA name (2018 boundaries)  6371 non-null   object \n",
      " 15  All Ages                   6371 non-null   int64  \n",
      " 16  12-                        6371 non-null   float64\n",
      " 17  13-20                      6371 non-null   float64\n",
      " 18  21-30                      6371 non-null   float64\n",
      " 19  31-45                      6371 non-null   float64\n",
      " 20  46-60                      6371 non-null   float64\n",
      " 21  60+                        6371 non-null   float64\n",
      " 22  code_x                     6371 non-null   object \n",
      " 23  name                       6371 non-null   object \n",
      " 24  employment                 6371 non-null   float64\n",
      " 25  code_y                     6371 non-null   object \n",
      " 26  enterprise                 6371 non-null   float64\n",
      " 27  income                     6371 non-null   int64  \n",
      " 28  house_price                6371 non-null   int64  \n",
      "dtypes: float64(10), int64(6), object(13)\n",
      "memory usage: 1.5+ MB\n"
     ]
    }
   ],
   "source": [
    "income_fn = 'income.csv'\n",
    "income = pd.read_csv(os.path.join(path,income_fn), low_memory=False)\n",
    "data = pd.merge(data, income, how='inner',  left_on='MSOA code', right_on='MSOA code', sort=True)\n",
    "data.info()"
   ]
  },
  {
   "cell_type": "code",
   "execution_count": null,
   "id": "59eb11be-6a69-445b-bc8e-248cd32a6a20",
   "metadata": {},
   "outputs": [],
   "source": []
  },
  {
   "cell_type": "code",
   "execution_count": 10,
   "id": "20981a28-46a8-4bf4-a163-6ef9d0625124",
   "metadata": {},
   "outputs": [
    {
     "name": "stdout",
     "output_type": "stream",
     "text": [
      "<class 'pandas.core.frame.DataFrame'>\n",
      "Int64Index: 6366 entries, 0 to 6365\n",
      "Data columns (total 31 columns):\n",
      " #   Column                     Non-Null Count  Dtype  \n",
      "---  ------                     --------------  -----  \n",
      " 0   Region code                6366 non-null   object \n",
      " 1   Region name                6366 non-null   object \n",
      " 2   LTLA code                  6366 non-null   object \n",
      " 3   LTLA name                  6366 non-null   object \n",
      " 4   MSOA code                  6366 non-null   object \n",
      " 5   MSOA name                  6366 non-null   object \n",
      " 6   3rdvac                     6366 non-null   int64  \n",
      " 7   Case number                6366 non-null   int64  \n",
      " 8   Case rate                  6366 non-null   float64\n",
      " 9   Death case                 6366 non-null   int64  \n",
      " 10  Death rate                 6366 non-null   float64\n",
      " 11  MSOA Code                  6366 non-null   object \n",
      " 12  MSOA Name                  6366 non-null   object \n",
      " 13  LA Code (2018 boundaries)  6366 non-null   object \n",
      " 14  LA name (2018 boundaries)  6366 non-null   object \n",
      " 15  All Ages                   6366 non-null   int64  \n",
      " 16  12-                        6366 non-null   float64\n",
      " 17  13-20                      6366 non-null   float64\n",
      " 18  21-30                      6366 non-null   float64\n",
      " 19  31-45                      6366 non-null   float64\n",
      " 20  46-60                      6366 non-null   float64\n",
      " 21  60+                        6366 non-null   float64\n",
      " 22  code_x                     6366 non-null   object \n",
      " 23  name                       6366 non-null   object \n",
      " 24  employment                 6366 non-null   float64\n",
      " 25  code_y                     6366 non-null   object \n",
      " 26  enterprise                 6366 non-null   float64\n",
      " 27  income                     6366 non-null   int64  \n",
      " 28  house_price                6366 non-null   int64  \n",
      " 29  code                       6366 non-null   object \n",
      " 30  life_expectancy            6366 non-null   float64\n",
      "dtypes: float64(11), int64(6), object(14)\n",
      "memory usage: 1.6+ MB\n"
     ]
    }
   ],
   "source": [
    "LE_fn = 'life_expectancy.csv'\n",
    "LE = pd.read_csv(os.path.join(path,LE_fn), low_memory=False)\n",
    "data = pd.merge(data, LE, how='inner',  left_on='MSOA code', right_on='code', sort=True)\n",
    "data.info()"
   ]
  },
  {
   "cell_type": "code",
   "execution_count": null,
   "id": "5c09dbef-814f-4e18-82e6-f96f667d2ef4",
   "metadata": {},
   "outputs": [],
   "source": []
  },
  {
   "cell_type": "code",
   "execution_count": 11,
   "id": "f4ab9476-ad9d-401d-a9fd-d9ed95fe216b",
   "metadata": {},
   "outputs": [
    {
     "name": "stdout",
     "output_type": "stream",
     "text": [
      "<class 'pandas.core.frame.DataFrame'>\n",
      "Int64Index: 6366 entries, 0 to 6365\n",
      "Data columns (total 36 columns):\n",
      " #   Column                     Non-Null Count  Dtype  \n",
      "---  ------                     --------------  -----  \n",
      " 0   Region code                6366 non-null   object \n",
      " 1   Region name                6366 non-null   object \n",
      " 2   LTLA code                  6366 non-null   object \n",
      " 3   LTLA name                  6366 non-null   object \n",
      " 4   MSOA code                  6366 non-null   object \n",
      " 5   MSOA name                  6366 non-null   object \n",
      " 6   3rdvac                     6366 non-null   int64  \n",
      " 7   Case number                6366 non-null   int64  \n",
      " 8   Case rate                  6366 non-null   float64\n",
      " 9   Death case                 6366 non-null   int64  \n",
      " 10  Death rate                 6366 non-null   float64\n",
      " 11  MSOA Code_x                6366 non-null   object \n",
      " 12  MSOA Name_x                6366 non-null   object \n",
      " 13  LA Code (2018 boundaries)  6366 non-null   object \n",
      " 14  LA name (2018 boundaries)  6366 non-null   object \n",
      " 15  All Ages                   6366 non-null   int64  \n",
      " 16  12-                        6366 non-null   float64\n",
      " 17  13-20                      6366 non-null   float64\n",
      " 18  21-30                      6366 non-null   float64\n",
      " 19  31-45                      6366 non-null   float64\n",
      " 20  46-60                      6366 non-null   float64\n",
      " 21  60+                        6366 non-null   float64\n",
      " 22  code_x                     6366 non-null   object \n",
      " 23  name                       6366 non-null   object \n",
      " 24  employment                 6366 non-null   float64\n",
      " 25  code_y                     6366 non-null   object \n",
      " 26  enterprise                 6366 non-null   float64\n",
      " 27  income                     6366 non-null   int64  \n",
      " 28  house_price                6366 non-null   int64  \n",
      " 29  code                       6366 non-null   object \n",
      " 30  life_expectancy            6366 non-null   float64\n",
      " 31  MSOA Code_y                6366 non-null   object \n",
      " 32  MSOA Name_y                6366 non-null   object \n",
      " 33  LA Code                    6366 non-null   object \n",
      " 34  LA name                    6366 non-null   object \n",
      " 35  population                 6366 non-null   int64  \n",
      "dtypes: float64(11), int64(7), object(18)\n",
      "memory usage: 1.8+ MB\n"
     ]
    }
   ],
   "source": [
    "population_fn = 'population.csv'\n",
    "population = pd.read_csv(os.path.join(path,population_fn), low_memory=False)\n",
    "data = pd.merge(data, population, how='inner',  left_on='MSOA code', right_on='MSOA Code', sort=True)\n",
    "data.info()"
   ]
  },
  {
   "cell_type": "code",
   "execution_count": null,
   "id": "cacaf1c5-4b71-4b05-a307-fd3d7a4f3015",
   "metadata": {},
   "outputs": [],
   "source": []
  },
  {
   "cell_type": "code",
   "execution_count": 12,
   "id": "1968c882-98a5-4d27-8083-67982f51bc32",
   "metadata": {},
   "outputs": [
    {
     "name": "stdout",
     "output_type": "stream",
     "text": [
      "<class 'pandas.core.frame.DataFrame'>\n",
      "Int64Index: 6366 entries, 0 to 6365\n",
      "Data columns (total 39 columns):\n",
      " #   Column                     Non-Null Count  Dtype  \n",
      "---  ------                     --------------  -----  \n",
      " 0   Region code                6366 non-null   object \n",
      " 1   Region name                6366 non-null   object \n",
      " 2   LTLA code                  6366 non-null   object \n",
      " 3   LTLA name                  6366 non-null   object \n",
      " 4   MSOA code                  6366 non-null   object \n",
      " 5   MSOA name_x                6366 non-null   object \n",
      " 6   3rdvac                     6366 non-null   int64  \n",
      " 7   Case number                6366 non-null   int64  \n",
      " 8   Case rate                  6366 non-null   float64\n",
      " 9   Death case                 6366 non-null   int64  \n",
      " 10  Death rate                 6366 non-null   float64\n",
      " 11  MSOA Code_x                6366 non-null   object \n",
      " 12  MSOA Name_x                6366 non-null   object \n",
      " 13  LA Code (2018 boundaries)  6366 non-null   object \n",
      " 14  LA name (2018 boundaries)  6366 non-null   object \n",
      " 15  All Ages                   6366 non-null   int64  \n",
      " 16  12-                        6366 non-null   float64\n",
      " 17  13-20                      6366 non-null   float64\n",
      " 18  21-30                      6366 non-null   float64\n",
      " 19  31-45                      6366 non-null   float64\n",
      " 20  46-60                      6366 non-null   float64\n",
      " 21  60+                        6366 non-null   float64\n",
      " 22  code_x                     6366 non-null   object \n",
      " 23  name                       6366 non-null   object \n",
      " 24  employment                 6366 non-null   float64\n",
      " 25  code_y                     6366 non-null   object \n",
      " 26  enterprise                 6366 non-null   float64\n",
      " 27  income                     6366 non-null   int64  \n",
      " 28  house_price                6366 non-null   int64  \n",
      " 29  code_x                     6366 non-null   object \n",
      " 30  life_expectancy            6366 non-null   float64\n",
      " 31  MSOA Code_y                6366 non-null   object \n",
      " 32  MSOA Name_y                6366 non-null   object \n",
      " 33  LA Code                    6366 non-null   object \n",
      " 34  LA name                    6366 non-null   object \n",
      " 35  population                 6366 non-null   int64  \n",
      " 36  code_y                     6366 non-null   object \n",
      " 37  MSOA name_y                6366 non-null   object \n",
      " 38  poverty                    6366 non-null   float64\n",
      "dtypes: float64(12), int64(7), object(20)\n",
      "memory usage: 1.9+ MB\n"
     ]
    },
    {
     "name": "stderr",
     "output_type": "stream",
     "text": [
      "/tmp/ipykernel_212/2737001608.py:3: FutureWarning: Passing 'suffixes' which cause duplicate columns {'code_x'} in the result is deprecated and will raise a MergeError in a future version.\n",
      "  data = pd.merge(data, poverty, how='inner',  left_on='MSOA code', right_on='code', sort=True)\n"
     ]
    }
   ],
   "source": [
    "poverty_fn = 'poverty.csv'\n",
    "poverty = pd.read_csv(os.path.join(path,poverty_fn), low_memory=False)\n",
    "data = pd.merge(data, poverty, how='inner',  left_on='MSOA code', right_on='code', sort=True)\n",
    "data.info()"
   ]
  },
  {
   "cell_type": "markdown",
   "id": "c4e2fcb9-da06-4b14-9ff5-bfcb3f2ac251",
   "metadata": {},
   "source": [
    "## Tidy data"
   ]
  },
  {
   "cell_type": "code",
   "execution_count": 13,
   "id": "c0b24a9f-1128-482b-90a9-5491e2556064",
   "metadata": {},
   "outputs": [],
   "source": [
    "data_all = data.loc[:,('MSOA code','LA name (2018 boundaries)','MSOA name_x','3rdvac','Case number','Death case','13-20','21-30','31-45','46-60','60+','population',\n",
    "     'life_expectancy','employment','income','poverty','enterprise','house_price')]"
   ]
  },
  {
   "cell_type": "code",
   "execution_count": 14,
   "id": "bf151511-f836-4333-9424-3f8b23a06a81",
   "metadata": {},
   "outputs": [],
   "source": [
    "data_all['3rdvac'] = data_all['3rdvac']/data_all['population'] \n",
    "data_all['Case number'] = data_all['Case number']/data_all['population'] \n",
    "data_all['Death case'] = data_all['Death case']/data_all['population'] \n"
   ]
  },
  {
   "cell_type": "code",
   "execution_count": 15,
   "id": "094498c3-f94e-4be6-9213-f718bc291f6e",
   "metadata": {},
   "outputs": [
    {
     "data": {
      "text/html": [
       "<div>\n",
       "<style scoped>\n",
       "    .dataframe tbody tr th:only-of-type {\n",
       "        vertical-align: middle;\n",
       "    }\n",
       "\n",
       "    .dataframe tbody tr th {\n",
       "        vertical-align: top;\n",
       "    }\n",
       "\n",
       "    .dataframe thead th {\n",
       "        text-align: right;\n",
       "    }\n",
       "</style>\n",
       "<table border=\"1\" class=\"dataframe\">\n",
       "  <thead>\n",
       "    <tr style=\"text-align: right;\">\n",
       "      <th></th>\n",
       "      <th>3rdvac</th>\n",
       "      <th>Case number</th>\n",
       "      <th>Death case</th>\n",
       "      <th>13-20</th>\n",
       "      <th>21-30</th>\n",
       "      <th>31-45</th>\n",
       "      <th>46-60</th>\n",
       "      <th>60+</th>\n",
       "      <th>population</th>\n",
       "      <th>life_expectancy</th>\n",
       "      <th>employment</th>\n",
       "      <th>income</th>\n",
       "      <th>poverty</th>\n",
       "      <th>enterprise</th>\n",
       "      <th>house_price</th>\n",
       "    </tr>\n",
       "  </thead>\n",
       "  <tbody>\n",
       "    <tr>\n",
       "      <th>count</th>\n",
       "      <td>6366.000000</td>\n",
       "      <td>6366.000000</td>\n",
       "      <td>6366.000000</td>\n",
       "      <td>6366.000000</td>\n",
       "      <td>6366.000000</td>\n",
       "      <td>6366.000000</td>\n",
       "      <td>6366.000000</td>\n",
       "      <td>6366.000000</td>\n",
       "      <td>6366.000000</td>\n",
       "      <td>6366.000000</td>\n",
       "      <td>6366.000000</td>\n",
       "      <td>6366.000000</td>\n",
       "      <td>6366.000000</td>\n",
       "      <td>6366.000000</td>\n",
       "      <td>6366.000000</td>\n",
       "    </tr>\n",
       "    <tr>\n",
       "      <th>mean</th>\n",
       "      <td>0.514210</td>\n",
       "      <td>7.169727</td>\n",
       "      <td>0.086331</td>\n",
       "      <td>0.088915</td>\n",
       "      <td>0.124741</td>\n",
       "      <td>0.190424</td>\n",
       "      <td>0.202556</td>\n",
       "      <td>0.237415</td>\n",
       "      <td>8328.077914</td>\n",
       "      <td>83.399702</td>\n",
       "      <td>0.662503</td>\n",
       "      <td>530.171222</td>\n",
       "      <td>21.096497</td>\n",
       "      <td>0.106058</td>\n",
       "      <td>190562.176720</td>\n",
       "    </tr>\n",
       "    <tr>\n",
       "      <th>std</th>\n",
       "      <td>0.123151</td>\n",
       "      <td>5.851872</td>\n",
       "      <td>0.075190</td>\n",
       "      <td>0.024597</td>\n",
       "      <td>0.057625</td>\n",
       "      <td>0.041321</td>\n",
       "      <td>0.030657</td>\n",
       "      <td>0.080518</td>\n",
       "      <td>2044.510850</td>\n",
       "      <td>2.838494</td>\n",
       "      <td>0.115635</td>\n",
       "      <td>103.284408</td>\n",
       "      <td>8.561829</td>\n",
       "      <td>0.070273</td>\n",
       "      <td>84586.141924</td>\n",
       "    </tr>\n",
       "    <tr>\n",
       "      <th>min</th>\n",
       "      <td>0.107313</td>\n",
       "      <td>0.575906</td>\n",
       "      <td>0.004118</td>\n",
       "      <td>0.031564</td>\n",
       "      <td>0.044900</td>\n",
       "      <td>0.040009</td>\n",
       "      <td>0.018635</td>\n",
       "      <td>0.006935</td>\n",
       "      <td>4843.000000</td>\n",
       "      <td>73.800000</td>\n",
       "      <td>0.000000</td>\n",
       "      <td>240.000000</td>\n",
       "      <td>6.700000</td>\n",
       "      <td>0.000000</td>\n",
       "      <td>39000.000000</td>\n",
       "    </tr>\n",
       "    <tr>\n",
       "      <th>25%</th>\n",
       "      <td>0.429094</td>\n",
       "      <td>3.299499</td>\n",
       "      <td>0.039705</td>\n",
       "      <td>0.076752</td>\n",
       "      <td>0.092860</td>\n",
       "      <td>0.162584</td>\n",
       "      <td>0.187548</td>\n",
       "      <td>0.178145</td>\n",
       "      <td>6855.000000</td>\n",
       "      <td>81.500000</td>\n",
       "      <td>0.594595</td>\n",
       "      <td>450.000000</td>\n",
       "      <td>14.800000</td>\n",
       "      <td>0.053207</td>\n",
       "      <td>125000.000000</td>\n",
       "    </tr>\n",
       "    <tr>\n",
       "      <th>50%</th>\n",
       "      <td>0.531356</td>\n",
       "      <td>5.562192</td>\n",
       "      <td>0.062520</td>\n",
       "      <td>0.084899</td>\n",
       "      <td>0.114072</td>\n",
       "      <td>0.186045</td>\n",
       "      <td>0.206572</td>\n",
       "      <td>0.236830</td>\n",
       "      <td>7996.000000</td>\n",
       "      <td>83.500000</td>\n",
       "      <td>0.673913</td>\n",
       "      <td>520.000000</td>\n",
       "      <td>18.700000</td>\n",
       "      <td>0.088889</td>\n",
       "      <td>174000.000000</td>\n",
       "    </tr>\n",
       "    <tr>\n",
       "      <th>75%</th>\n",
       "      <td>0.612180</td>\n",
       "      <td>9.013117</td>\n",
       "      <td>0.109982</td>\n",
       "      <td>0.094798</td>\n",
       "      <td>0.136451</td>\n",
       "      <td>0.213125</td>\n",
       "      <td>0.222462</td>\n",
       "      <td>0.292074</td>\n",
       "      <td>9379.000000</td>\n",
       "      <td>85.300000</td>\n",
       "      <td>0.742857</td>\n",
       "      <td>600.000000</td>\n",
       "      <td>25.400000</td>\n",
       "      <td>0.141800</td>\n",
       "      <td>240500.000000</td>\n",
       "    </tr>\n",
       "    <tr>\n",
       "      <th>max</th>\n",
       "      <td>0.909355</td>\n",
       "      <td>47.104359</td>\n",
       "      <td>0.654086</td>\n",
       "      <td>0.425221</td>\n",
       "      <td>0.681841</td>\n",
       "      <td>0.373384</td>\n",
       "      <td>0.286471</td>\n",
       "      <td>0.601308</td>\n",
       "      <td>27911.000000</td>\n",
       "      <td>96.300000</td>\n",
       "      <td>1.000000</td>\n",
       "      <td>990.000000</td>\n",
       "      <td>63.700000</td>\n",
       "      <td>0.490798</td>\n",
       "      <td>450000.000000</td>\n",
       "    </tr>\n",
       "  </tbody>\n",
       "</table>\n",
       "</div>"
      ],
      "text/plain": [
       "            3rdvac  Case number   Death case        13-20        21-30  \\\n",
       "count  6366.000000  6366.000000  6366.000000  6366.000000  6366.000000   \n",
       "mean      0.514210     7.169727     0.086331     0.088915     0.124741   \n",
       "std       0.123151     5.851872     0.075190     0.024597     0.057625   \n",
       "min       0.107313     0.575906     0.004118     0.031564     0.044900   \n",
       "25%       0.429094     3.299499     0.039705     0.076752     0.092860   \n",
       "50%       0.531356     5.562192     0.062520     0.084899     0.114072   \n",
       "75%       0.612180     9.013117     0.109982     0.094798     0.136451   \n",
       "max       0.909355    47.104359     0.654086     0.425221     0.681841   \n",
       "\n",
       "             31-45        46-60          60+    population  life_expectancy  \\\n",
       "count  6366.000000  6366.000000  6366.000000   6366.000000      6366.000000   \n",
       "mean      0.190424     0.202556     0.237415   8328.077914        83.399702   \n",
       "std       0.041321     0.030657     0.080518   2044.510850         2.838494   \n",
       "min       0.040009     0.018635     0.006935   4843.000000        73.800000   \n",
       "25%       0.162584     0.187548     0.178145   6855.000000        81.500000   \n",
       "50%       0.186045     0.206572     0.236830   7996.000000        83.500000   \n",
       "75%       0.213125     0.222462     0.292074   9379.000000        85.300000   \n",
       "max       0.373384     0.286471     0.601308  27911.000000        96.300000   \n",
       "\n",
       "        employment       income      poverty   enterprise    house_price  \n",
       "count  6366.000000  6366.000000  6366.000000  6366.000000    6366.000000  \n",
       "mean      0.662503   530.171222    21.096497     0.106058  190562.176720  \n",
       "std       0.115635   103.284408     8.561829     0.070273   84586.141924  \n",
       "min       0.000000   240.000000     6.700000     0.000000   39000.000000  \n",
       "25%       0.594595   450.000000    14.800000     0.053207  125000.000000  \n",
       "50%       0.673913   520.000000    18.700000     0.088889  174000.000000  \n",
       "75%       0.742857   600.000000    25.400000     0.141800  240500.000000  \n",
       "max       1.000000   990.000000    63.700000     0.490798  450000.000000  "
      ]
     },
     "execution_count": 15,
     "metadata": {},
     "output_type": "execute_result"
    }
   ],
   "source": [
    "data_all.describe()"
   ]
  },
  {
   "cell_type": "markdown",
   "id": "ea475c0a-361d-45ce-903a-407be634c607",
   "metadata": {},
   "source": [
    "## Dividing into groups"
   ]
  },
  {
   "cell_type": "code",
   "execution_count": 16,
   "id": "27a87910-8598-428e-8138-a2037410346c",
   "metadata": {},
   "outputs": [],
   "source": [
    "data_p1 = pd.DataFrame()\n",
    "data_p2 = pd.DataFrame()\n",
    "data_p3 = pd.DataFrame()\n",
    "data_p4 = pd.DataFrame()"
   ]
  },
  {
   "cell_type": "code",
   "execution_count": 17,
   "id": "240fff34-ac81-4fd8-947b-a84739abe94a",
   "metadata": {},
   "outputs": [],
   "source": [
    "for i in range(6351):\n",
    "    if data_all.loc[i,'3rdvac']<0.429:\n",
    "        data_p1 = data_p1.append(data_all.loc[i,:])\n",
    "    elif data_all.loc[i,'3rdvac']<0.531:\n",
    "        data_p2 = data_p2.append(data_all.loc[i,:])\n",
    "    elif data_all.loc[i,'3rdvac']<0.612:\n",
    "        data_p3 = data_p3.append(data_all.loc[i,:])\n",
    "    else:\n",
    "        data_p4 = data_p4.append(data_all.loc[i,:])"
   ]
  },
  {
   "cell_type": "code",
   "execution_count": 18,
   "id": "d7c8a42c-dfe0-4e14-a534-ebb01298c368",
   "metadata": {},
   "outputs": [
    {
     "name": "stdout",
     "output_type": "stream",
     "text": [
      "                             0              1              2              3\n",
      "3rdvac                0.343504       0.483525       0.572162       0.657266\n",
      "Case number           9.006076       7.348914       6.497414       5.838740\n",
      "Death case            0.106465       0.088284       0.078513       0.072282\n",
      "13-20                 0.103971       0.087375       0.084740       0.079565\n",
      "21-30                 0.170866       0.134631       0.108298       0.084415\n",
      "31-45                 0.223309       0.204715       0.181816       0.151703\n",
      "46-60                 0.171615       0.198801       0.215023       0.225051\n",
      "60+                   0.148559       0.211231       0.261255       0.328847\n",
      "population         9290.917877    8316.458861    7989.351945    7694.084693\n",
      "life_expectancy      81.772142      82.813924      84.140966      84.860477\n",
      "employment            0.614378       0.665265       0.686085       0.684208\n",
      "income              519.343020     525.411392     533.042660     542.816813\n",
      "poverty              31.478838      21.478481      16.515872      14.929799\n",
      "enterprise            0.129305       0.125496       0.096766       0.072919\n",
      "house_price      176422.451674  182440.631646  192984.858846  210326.733375\n"
     ]
    },
    {
     "name": "stderr",
     "output_type": "stream",
     "text": [
      "/tmp/ipykernel_212/77387081.py:2: FutureWarning: Dropping of nuisance columns in DataFrame reductions (with 'numeric_only=None') is deprecated; in a future version this will raise TypeError.  Select only valid columns before calling the reduction.\n",
      "  data_mean[0] = data_p1.mean()\n",
      "/tmp/ipykernel_212/77387081.py:3: FutureWarning: Dropping of nuisance columns in DataFrame reductions (with 'numeric_only=None') is deprecated; in a future version this will raise TypeError.  Select only valid columns before calling the reduction.\n",
      "  data_mean[1] = data_p2.mean()\n",
      "/tmp/ipykernel_212/77387081.py:4: FutureWarning: Dropping of nuisance columns in DataFrame reductions (with 'numeric_only=None') is deprecated; in a future version this will raise TypeError.  Select only valid columns before calling the reduction.\n",
      "  data_mean[2] = data_p3.mean()\n",
      "/tmp/ipykernel_212/77387081.py:5: FutureWarning: Dropping of nuisance columns in DataFrame reductions (with 'numeric_only=None') is deprecated; in a future version this will raise TypeError.  Select only valid columns before calling the reduction.\n",
      "  data_mean[3] = data_p4.mean()\n"
     ]
    }
   ],
   "source": [
    "data_mean = pd.DataFrame()\n",
    "data_mean[0] = data_p1.mean()\n",
    "data_mean[1] = data_p2.mean()\n",
    "data_mean[2] = data_p3.mean()\n",
    "data_mean[3] = data_p4.mean()\n",
    "print(data_mean)"
   ]
  },
  {
   "cell_type": "markdown",
   "id": "b96d56d9-b34c-463d-bef1-5945cd1517fb",
   "metadata": {},
   "source": [
    "## Romove outliers"
   ]
  },
  {
   "cell_type": "code",
   "execution_count": 19,
   "id": "d4b246da-5a32-4dd8-a164-8a4ee2cb84ca",
   "metadata": {},
   "outputs": [
    {
     "data": {
      "text/plain": [
       "{'whiskers': [<matplotlib.lines.Line2D at 0x7f4d307b8ca0>,\n",
       "  <matplotlib.lines.Line2D at 0x7f4d307b8f70>],\n",
       " 'caps': [<matplotlib.lines.Line2D at 0x7f4d307d0340>,\n",
       "  <matplotlib.lines.Line2D at 0x7f4d307d06d0>],\n",
       " 'boxes': [<matplotlib.lines.Line2D at 0x7f4d307b8850>],\n",
       " 'medians': [<matplotlib.lines.Line2D at 0x7f4d307d0a60>],\n",
       " 'fliers': [<matplotlib.lines.Line2D at 0x7f4d307d0df0>],\n",
       " 'means': []}"
      ]
     },
     "execution_count": 19,
     "metadata": {},
     "output_type": "execute_result"
    },
    {
     "data": {
      "image/png": "[encoded data removed]",
      "text/plain": [
       "<Figure size 288x288 with 1 Axes>"
      ]
     },
     "metadata": {
      "needs_background": "light"
     },
     "output_type": "display_data"
    }
   ],
   "source": [
    "plt.figure(figsize=(4,4))\n",
    "plt.boxplot(data_all['3rdvac'])"
   ]
  },
  {
   "cell_type": "code",
   "execution_count": 20,
   "id": "18e7dc25-d633-4bf6-b06f-cd7399dde4f3",
   "metadata": {},
   "outputs": [
    {
     "name": "stdout",
     "output_type": "stream",
     "text": [
      "1797                      Washwood Heath\n",
      "1799    North Central & Dartmouth Circus\n",
      "1800                        Saltley East\n",
      "1807               Bordesley Green North\n",
      "1827                     Sparkhill North\n",
      "2077                       Waterloo Road\n",
      "2130                          Girlington\n",
      "2134                          Brown Royd\n",
      "2135                      Barkerend East\n",
      "2137            Shearbridge & University\n",
      "2141                           Holme Top\n",
      "2285                     Harehills North\n",
      "2289                     Harehills South\n",
      "5459              Burford & Brize Norton\n",
      "6287                  Cathedral & Kelham\n",
      "Name: MSOA name_x, dtype: object\n"
     ]
    }
   ],
   "source": [
    "Q1 = np.percentile(data_all['3rdvac'], 25)\n",
    "Q3 = np.percentile(data_all['3rdvac'], 75)\n",
    "IQR = Q3 - Q1\n",
    "outlier_step = 1.5 * IQR\n",
    "data_outlier = data_all.loc[(data_all['3rdvac'] < Q1 - outlier_step)| (data_all['3rdvac'] > Q3 + outlier_step)]\n",
    "print(data_outlier['MSOA name_x'])\n",
    "index = data_all.loc[(data_all['3rdvac'] < Q1 - outlier_step)| (data_all['3rdvac'] > Q3 + outlier_step)].index\n",
    "data_all.drop(index=index, axis=1, inplace=True)"
   ]
  },
  {
   "cell_type": "markdown",
   "id": "8510628a-d079-45df-b1eb-37de13a06d89",
   "metadata": {},
   "source": [
    "## Single linear regression"
   ]
  },
  {
   "cell_type": "code",
   "execution_count": 21,
   "id": "fe2f2bbe-523b-474f-9c0c-e2b0d1b3da99",
   "metadata": {},
   "outputs": [],
   "source": [
    "x = ['Case number','Death case','13-20','21-30','31-45','46-60','60+','population',\n",
    "     'life_expectancy','employment','income','poverty','enterprise','house_price']\n",
    "single_result = pd.DataFrame()"
   ]
  },
  {
   "cell_type": "code",
   "execution_count": 22,
   "id": "6c844d4d-f16e-457e-a3e3-09a1b51e9d72",
   "metadata": {},
   "outputs": [
    {
     "name": "stderr",
     "output_type": "stream",
     "text": [
      "/opt/conda/envs/sds2021/lib/python3.9/site-packages/statsmodels/tsa/tsatools.py:142: FutureWarning: In a future version of pandas all arguments of concat except for the argument 'objs' will be keyword-only\n",
      "  x = pd.concat(x[::order], 1)\n"
     ]
    }
   ],
   "source": [
    "for i in range(14):\n",
    "    single_model = sm.OLS(endog=data_all[['3rdvac']], exog=sm.add_constant(data_all[[x[i]]])).fit()\n",
    "    intercept = single_model.params[1]\n",
    "    Rsquared = single_model.rsquared\n",
    "    pvalue = single_model.f_pvalue\n",
    "    fvalue = single_model.fvalue\n",
    "    single = [[intercept,Rsquared,pvalue,fvalue]]\n",
    "    #print(single)\n",
    "    single_result = single_result.append(single)\n"
   ]
  },
  {
   "cell_type": "code",
   "execution_count": 23,
   "id": "40521a6e-ba0a-4e2e-9b71-cff602698e49",
   "metadata": {},
   "outputs": [
    {
     "name": "stdout",
     "output_type": "stream",
     "text": [
      "              0         1              2             3\n",
      "0 -4.429554e-03  0.044879   2.336320e-65    298.325046\n",
      "0 -2.954413e-01  0.032929   3.781086e-48    216.183758\n",
      "0 -2.060027e+00  0.170219  1.363700e-259   1302.414251\n",
      "0 -1.286423e+00  0.362771   0.000000e+00   3614.447052\n",
      "0 -1.889146e+00  0.409835   0.000000e+00   4409.017436\n",
      "0  2.817907e+00  0.493795   0.000000e+00   6193.348183\n",
      "0  1.302670e+00  0.735138   0.000000e+00  17622.009750\n",
      "0 -1.973689e-05  0.108315  2.681320e-160    771.230524\n",
      "0  1.830727e-02  0.181733  7.181778e-279   1410.078880\n",
      "0  2.641774e-01  0.062656   2.476689e-91    424.396641\n",
      "0  1.040925e-04  0.007781   1.895507e-12     49.787336\n",
      "0 -1.145521e-02  0.630301   0.000000e+00  10824.416635\n",
      "0 -5.245679e-01  0.091452  1.968099e-134    639.076236\n",
      "0  2.184958e-07  0.023007   5.344138e-34    149.508066\n"
     ]
    }
   ],
   "source": [
    "print(single_result)"
   ]
  },
  {
   "cell_type": "markdown",
   "id": "525c5bb1-e8ce-4039-94af-6f2011a42554",
   "metadata": {},
   "source": [
    "## Multi regression"
   ]
  },
  {
   "cell_type": "code",
   "execution_count": null,
   "id": "4d74198a-f83b-4a69-b8d8-21e07d0e58f0",
   "metadata": {},
   "outputs": [],
   "source": []
  },
  {
   "cell_type": "code",
   "execution_count": 45,
   "id": "887d860e-f959-4f18-9e45-b011c76e5b27",
   "metadata": {},
   "outputs": [
    {
     "data": {
      "text/plain": [
       "Text(0.5, 1.0, 'Correlation Matrix')"
      ]
     },
     "execution_count": 45,
     "metadata": {},
     "output_type": "execute_result"
    },
    {
     "data": {
      "image/png": "[encoded data removed]",
      "text/plain": [
       "<Figure size 720x720 with 2 Axes>"
      ]
     },
     "metadata": {
      "needs_background": "light"
     },
     "output_type": "display_data"
    }
   ],
   "source": [
    "df = data_all.loc[:,('Case number','Death case','13-20','21-30','31-45','46-60','60+','population',\n",
    "     'life_expectancy','employment','income','poverty','enterprise','house_price')]\n",
    "plt.rcParams[\"axes.grid\"] = False\n",
    "f = plt.figure(figsize=(10,10))\n",
    "plt.matshow(df.corr(), fignum=f.number)\n",
    "plt.xticks(range(df.shape[1]), df.columns, fontsize=14, rotation=45)\n",
    "plt.yticks(range(df.shape[1]), df.columns, fontsize=14)\n",
    "cb = plt.colorbar()\n",
    "cb.ax.tick_params(labelsize=14)\n",
    "plt.title('Correlation Matrix', fontsize=16)"
   ]
  },
  {
   "cell_type": "code",
   "execution_count": null,
   "id": "ffc4d822-349f-4227-b258-b1bb41e75e37",
   "metadata": {},
   "outputs": [],
   "source": []
  },
  {
   "cell_type": "code",
   "execution_count": null,
   "id": "fbebb1d4-269f-436b-a544-e3803e3d5430",
   "metadata": {},
   "outputs": [],
   "source": []
  },
  {
   "cell_type": "code",
   "execution_count": 32,
   "id": "201e38b5-8bb1-460b-a755-0a4187f99698",
   "metadata": {},
   "outputs": [],
   "source": [
    "data_X = data_all.loc[:,('Death case','21-30','60+','enterprise','house_price','poverty')]"
   ]
  },
  {
   "cell_type": "code",
   "execution_count": 33,
   "id": "5831d53b-7019-4a58-b54d-5ebe79444ea2",
   "metadata": {},
   "outputs": [
    {
     "data": {
      "text/html": [
       "<div>\n",
       "<style scoped>\n",
       "    .dataframe tbody tr th:only-of-type {\n",
       "        vertical-align: middle;\n",
       "    }\n",
       "\n",
       "    .dataframe tbody tr th {\n",
       "        vertical-align: top;\n",
       "    }\n",
       "\n",
       "    .dataframe thead th {\n",
       "        text-align: right;\n",
       "    }\n",
       "</style>\n",
       "<table border=\"1\" class=\"dataframe\">\n",
       "  <thead>\n",
       "    <tr style=\"text-align: right;\">\n",
       "      <th></th>\n",
       "      <th>VIF</th>\n",
       "      <th>Column</th>\n",
       "    </tr>\n",
       "  </thead>\n",
       "  <tbody>\n",
       "    <tr>\n",
       "      <th>5</th>\n",
       "      <td>9.947519</td>\n",
       "      <td>poverty</td>\n",
       "    </tr>\n",
       "    <tr>\n",
       "      <th>1</th>\n",
       "      <td>7.946747</td>\n",
       "      <td>21-30</td>\n",
       "    </tr>\n",
       "    <tr>\n",
       "      <th>4</th>\n",
       "      <td>5.904809</td>\n",
       "      <td>house_price</td>\n",
       "    </tr>\n",
       "    <tr>\n",
       "      <th>2</th>\n",
       "      <td>5.501928</td>\n",
       "      <td>60+</td>\n",
       "    </tr>\n",
       "    <tr>\n",
       "      <th>3</th>\n",
       "      <td>3.853981</td>\n",
       "      <td>enterprise</td>\n",
       "    </tr>\n",
       "    <tr>\n",
       "      <th>0</th>\n",
       "      <td>2.520974</td>\n",
       "      <td>Death case</td>\n",
       "    </tr>\n",
       "  </tbody>\n",
       "</table>\n",
       "</div>"
      ],
      "text/plain": [
       "        VIF       Column\n",
       "5  9.947519      poverty\n",
       "1  7.946747        21-30\n",
       "4  5.904809  house_price\n",
       "2  5.501928          60+\n",
       "3  3.853981   enterprise\n",
       "0  2.520974   Death case"
      ]
     },
     "execution_count": 33,
     "metadata": {},
     "output_type": "execute_result"
    }
   ],
   "source": [
    "vif_info = pd.DataFrame()\n",
    "vif_info['VIF'] = [variance_inflation_factor(data_X.values, i) for i in range(data_X.shape[1])]\n",
    "vif_info['Column'] = data_X.columns\n",
    "vif_info.sort_values('VIF', ascending=False)"
   ]
  },
  {
   "cell_type": "code",
   "execution_count": null,
   "id": "3ff47e22-c48c-4c11-9815-4aad462ffc06",
   "metadata": {},
   "outputs": [],
   "source": []
  },
  {
   "cell_type": "code",
   "execution_count": 34,
   "id": "9442e51d-4bcc-4f02-a842-9f056e7d9d54",
   "metadata": {},
   "outputs": [
    {
     "data": {
      "text/plain": [
       "<AxesSubplot:title={'center':'x1: poverty'}, ylabel='Frequency'>"
      ]
     },
     "execution_count": 34,
     "metadata": {},
     "output_type": "execute_result"
    },
    {
     "data": {
      "image/png": "[encoded data removed]",
      "text/plain": [
       "<Figure size 1008x720 with 7 Axes>"
      ]
     },
     "metadata": {
      "needs_background": "light"
     },
     "output_type": "display_data"
    }
   ],
   "source": [
    "fig=plt.figure(figsize=(14,10))\n",
    "ax1=fig.add_subplot(331)\n",
    "data_all['3rdvac'].plot.hist(ax=ax1,title = 'y: 3rdvac')\n",
    "ax2=fig.add_subplot(332)\n",
    "data_all['Death case'].plot.hist(ax=ax2,title = 'x1: Death case')\n",
    "ax3=fig.add_subplot(333)\n",
    "data_all['21-30'].plot.hist(ax=ax3,title = 'x1:21-30')\n",
    "ax4=fig.add_subplot(334)\n",
    "data_all['60+'].plot.hist(ax=ax4,title = 'x1: 60+')\n",
    "ax5=fig.add_subplot(335)\n",
    "data_all['enterprise'].plot.hist(ax=ax5,title = 'x1: enterprise')\n",
    "ax6=fig.add_subplot(336)\n",
    "data_all['house_price'].plot.hist(ax=ax6,title = 'x1: house_price')\n",
    "ax7=fig.add_subplot(337)\n",
    "data_all['poverty'].plot.hist(ax=ax7,title = 'x1: poverty')"
   ]
  },
  {
   "cell_type": "code",
   "execution_count": 35,
   "id": "3be2260e-f3a2-4287-8e2c-badb7d6e5941",
   "metadata": {},
   "outputs": [],
   "source": [
    "#data_X['Death case']=np.log(data_X['Death case']+0.0000000001)\n",
    "#data_X['21-30']=np.log(data_X['21-30']+0.0000000001)\n",
    "#data_X['60+']=np.log(data_X['60+'])\n",
    "#data_X['enterprise']=np.log(data_X['enterprise']+0.0000000001)\n",
    "#data_X['house_price']=np.log(data_X['house_price']+0.0000000001)\n",
    "#data_X['poverty']=np.log(data_X['poverty']+0.0000000001)"
   ]
  },
  {
   "cell_type": "markdown",
   "id": "4ecda1e3-95dc-4740-bb83-5edacf306f2d",
   "metadata": {},
   "source": [
    "## Split train and test"
   ]
  },
  {
   "cell_type": "code",
   "execution_count": 36,
   "id": "1b0b7df4-7565-4eb3-9101-e9af6c96e5ee",
   "metadata": {},
   "outputs": [
    {
     "name": "stdout",
     "output_type": "stream",
     "text": [
      "5080 1271\n"
     ]
    }
   ],
   "source": [
    "from sklearn.model_selection import train_test_split\n",
    "\n",
    "data_train,data_test = train_test_split(data_all,test_size = 0.2,random_state = 42)\n",
    "print(len(data_train),len(data_test))"
   ]
  },
  {
   "cell_type": "code",
   "execution_count": 37,
   "id": "8b81acba-7330-49cd-99a6-178c93ce1970",
   "metadata": {},
   "outputs": [
    {
     "name": "stderr",
     "output_type": "stream",
     "text": [
      "/opt/conda/envs/sds2021/lib/python3.9/site-packages/statsmodels/tsa/tsatools.py:142: FutureWarning: In a future version of pandas all arguments of concat except for the argument 'objs' will be keyword-only\n",
      "  x = pd.concat(x[::order], 1)\n"
     ]
    },
    {
     "data": {
      "text/html": [
       "<table class=\"simpletable\">\n",
       "<caption>OLS Regression Results</caption>\n",
       "<tr>\n",
       "  <th>Dep. Variable:</th>         <td>3rdvac</td>      <th>  R-squared:         </th>  <td>   0.863</td> \n",
       "</tr>\n",
       "<tr>\n",
       "  <th>Model:</th>                   <td>OLS</td>       <th>  Adj. R-squared:    </th>  <td>   0.863</td> \n",
       "</tr>\n",
       "<tr>\n",
       "  <th>Method:</th>             <td>Least Squares</td>  <th>  F-statistic:       </th>  <td>   5324.</td> \n",
       "</tr>\n",
       "<tr>\n",
       "  <th>Date:</th>             <td>Mon, 17 Jan 2022</td> <th>  Prob (F-statistic):</th>   <td>  0.00</td>  \n",
       "</tr>\n",
       "<tr>\n",
       "  <th>Time:</th>                 <td>17:58:05</td>     <th>  Log-Likelihood:    </th>  <td>  8521.5</td> \n",
       "</tr>\n",
       "<tr>\n",
       "  <th>No. Observations:</th>      <td>  5080</td>      <th>  AIC:               </th> <td>-1.703e+04</td>\n",
       "</tr>\n",
       "<tr>\n",
       "  <th>Df Residuals:</th>          <td>  5073</td>      <th>  BIC:               </th> <td>-1.698e+04</td>\n",
       "</tr>\n",
       "<tr>\n",
       "  <th>Df Model:</th>              <td>     6</td>      <th>                     </th>      <td> </td>    \n",
       "</tr>\n",
       "<tr>\n",
       "  <th>Covariance Type:</th>      <td>nonrobust</td>    <th>                     </th>      <td> </td>    \n",
       "</tr>\n",
       "</table>\n",
       "<table class=\"simpletable\">\n",
       "<tr>\n",
       "       <td></td>          <th>coef</th>     <th>std err</th>      <th>t</th>      <th>P>|t|</th>  <th>[0.025</th>    <th>0.975]</th>  \n",
       "</tr>\n",
       "<tr>\n",
       "  <th>const</th>       <td>    0.3900</td> <td>    0.005</td> <td>   73.329</td> <td> 0.000</td> <td>    0.380</td> <td>    0.400</td>\n",
       "</tr>\n",
       "<tr>\n",
       "  <th>Death case</th>  <td>   -0.0585</td> <td>    0.009</td> <td>   -6.569</td> <td> 0.000</td> <td>   -0.076</td> <td>   -0.041</td>\n",
       "</tr>\n",
       "<tr>\n",
       "  <th>21-30</th>       <td>    0.1518</td> <td>    0.015</td> <td>    9.846</td> <td> 0.000</td> <td>    0.122</td> <td>    0.182</td>\n",
       "</tr>\n",
       "<tr>\n",
       "  <th>60+</th>         <td>    0.9634</td> <td>    0.012</td> <td>   82.736</td> <td> 0.000</td> <td>    0.941</td> <td>    0.986</td>\n",
       "</tr>\n",
       "<tr>\n",
       "  <th>enterprise</th>  <td>   -0.0237</td> <td>    0.010</td> <td>   -2.440</td> <td> 0.015</td> <td>   -0.043</td> <td>   -0.005</td>\n",
       "</tr>\n",
       "<tr>\n",
       "  <th>house_price</th> <td> 7.859e-08</td> <td> 7.98e-09</td> <td>    9.848</td> <td> 0.000</td> <td> 6.29e-08</td> <td> 9.42e-08</td>\n",
       "</tr>\n",
       "<tr>\n",
       "  <th>poverty</th>     <td>   -0.0062</td> <td> 9.95e-05</td> <td>  -62.551</td> <td> 0.000</td> <td>   -0.006</td> <td>   -0.006</td>\n",
       "</tr>\n",
       "</table>\n",
       "<table class=\"simpletable\">\n",
       "<tr>\n",
       "  <th>Omnibus:</th>       <td>70.302</td> <th>  Durbin-Watson:     </th> <td>   1.994</td>\n",
       "</tr>\n",
       "<tr>\n",
       "  <th>Prob(Omnibus):</th> <td> 0.000</td> <th>  Jarque-Bera (JB):  </th> <td> 123.420</td>\n",
       "</tr>\n",
       "<tr>\n",
       "  <th>Skew:</th>          <td> 0.071</td> <th>  Prob(JB):          </th> <td>1.58e-27</td>\n",
       "</tr>\n",
       "<tr>\n",
       "  <th>Kurtosis:</th>      <td> 3.750</td> <th>  Cond. No.          </th> <td>5.79e+06</td>\n",
       "</tr>\n",
       "</table><br/><br/>Notes:<br/>[1] Standard Errors assume that the covariance matrix of the errors is correctly specified.<br/>[2] The condition number is large, 5.79e+06. This might indicate that there are<br/>strong multicollinearity or other numerical problems."
      ],
      "text/plain": [
       "<class 'statsmodels.iolib.summary.Summary'>\n",
       "\"\"\"\n",
       "                            OLS Regression Results                            \n",
       "==============================================================================\n",
       "Dep. Variable:                 3rdvac   R-squared:                       0.863\n",
       "Model:                            OLS   Adj. R-squared:                  0.863\n",
       "Method:                 Least Squares   F-statistic:                     5324.\n",
       "Date:                Mon, 17 Jan 2022   Prob (F-statistic):               0.00\n",
       "Time:                        17:58:05   Log-Likelihood:                 8521.5\n",
       "No. Observations:                5080   AIC:                        -1.703e+04\n",
       "Df Residuals:                    5073   BIC:                        -1.698e+04\n",
       "Df Model:                           6                                         \n",
       "Covariance Type:            nonrobust                                         \n",
       "===============================================================================\n",
       "                  coef    std err          t      P>|t|      [0.025      0.975]\n",
       "-------------------------------------------------------------------------------\n",
       "const           0.3900      0.005     73.329      0.000       0.380       0.400\n",
       "Death case     -0.0585      0.009     -6.569      0.000      -0.076      -0.041\n",
       "21-30           0.1518      0.015      9.846      0.000       0.122       0.182\n",
       "60+             0.9634      0.012     82.736      0.000       0.941       0.986\n",
       "enterprise     -0.0237      0.010     -2.440      0.015      -0.043      -0.005\n",
       "house_price  7.859e-08   7.98e-09      9.848      0.000    6.29e-08    9.42e-08\n",
       "poverty        -0.0062   9.95e-05    -62.551      0.000      -0.006      -0.006\n",
       "==============================================================================\n",
       "Omnibus:                       70.302   Durbin-Watson:                   1.994\n",
       "Prob(Omnibus):                  0.000   Jarque-Bera (JB):              123.420\n",
       "Skew:                           0.071   Prob(JB):                     1.58e-27\n",
       "Kurtosis:                       3.750   Cond. No.                     5.79e+06\n",
       "==============================================================================\n",
       "\n",
       "Notes:\n",
       "[1] Standard Errors assume that the covariance matrix of the errors is correctly specified.\n",
       "[2] The condition number is large, 5.79e+06. This might indicate that there are\n",
       "strong multicollinearity or other numerical problems.\n",
       "\"\"\""
      ]
     },
     "execution_count": 37,
     "metadata": {},
     "output_type": "execute_result"
    }
   ],
   "source": [
    "model = sm.OLS(endog=data_train[['3rdvac']], \n",
    "               exog=sm.add_constant(data_train[['Death case','21-30','60+','enterprise','house_price','poverty']])).fit()\n",
    "model.summary()"
   ]
  },
  {
   "cell_type": "code",
   "execution_count": 38,
   "id": "f0c66e0d-37f9-4a58-b205-9364d9a344e4",
   "metadata": {},
   "outputs": [
    {
     "data": {
      "text/plain": [
       "<AxesSubplot:ylabel='Frequency'>"
      ]
     },
     "execution_count": 38,
     "metadata": {},
     "output_type": "execute_result"
    },
    {
     "data": {
      "image/png": "[encoded data removed]",
      "text/plain": [
       "<Figure size 432x288 with 1 Axes>"
      ]
     },
     "metadata": {
      "needs_background": "light"
     },
     "output_type": "display_data"
    }
   ],
   "source": [
    "model.resid.plot.hist()"
   ]
  },
  {
   "cell_type": "code",
   "execution_count": 46,
   "id": "91deb927-f552-4837-9a46-eced7a11cc9a",
   "metadata": {},
   "outputs": [
    {
     "data": {
      "image/png": "[encoded data removed]",
      "text/plain": [
       "<Figure size 432x288 with 1 Axes>"
      ]
     },
     "metadata": {
      "needs_background": "light"
     },
     "output_type": "display_data"
    }
   ],
   "source": [
    "# plot \n",
    "plt.scatter(model.fittedvalues, model.resid)\n",
    "# adding title and labels\n",
    "plt.xlabel('Fitted vaccine rate')\n",
    "plt.ylabel('Residual')\n",
    "plt.title('Residual vs. Fitted Plot of vaccine rate')\n",
    "plt.show()"
   ]
  },
  {
   "cell_type": "code",
   "execution_count": 47,
   "id": "10df6ec1-bf43-4513-a551-9945a29bf308",
   "metadata": {},
   "outputs": [
    {
     "data": {
      "image/png": "[encoded data removed]",
      "text/plain": [
       "<Figure size 864x576 with 4 Axes>"
      ]
     },
     "metadata": {
      "needs_background": "light"
     },
     "output_type": "display_data"
    }
   ],
   "source": [
    "fig = plt.figure(figsize=(12,8))\n",
    "fig = sm.graphics.plot_regress_exog(model, '60+', fig=fig)"
   ]
  },
  {
   "cell_type": "code",
   "execution_count": 41,
   "id": "571bf925-ac6e-46cb-b8f4-48dae6bdf665",
   "metadata": {},
   "outputs": [
    {
     "name": "stderr",
     "output_type": "stream",
     "text": [
      "/opt/conda/envs/sds2021/lib/python3.9/site-packages/statsmodels/tsa/tsatools.py:142: FutureWarning: In a future version of pandas all arguments of concat except for the argument 'objs' will be keyword-only\n",
      "  x = pd.concat(x[::order], 1)\n"
     ]
    },
    {
     "data": {
      "text/plain": [
       "count    1271.000000\n",
       "mean        0.002114\n",
       "std         0.045021\n",
       "min        -0.145450\n",
       "25%        -0.025974\n",
       "50%         0.001969\n",
       "75%         0.029069\n",
       "max         0.279245\n",
       "dtype: float64"
      ]
     },
     "execution_count": 41,
     "metadata": {},
     "output_type": "execute_result"
    }
   ],
   "source": [
    "pred = model.predict(sm.add_constant(data_test[['Death case','21-30','60+','enterprise','house_price','poverty']]))\n",
    "error = data_test['3rdvac'] - pred\n",
    "error.describe()"
   ]
  },
  {
   "cell_type": "code",
   "execution_count": 42,
   "id": "99bf9751-3d02-471f-a3e9-ab321e507c4f",
   "metadata": {},
   "outputs": [
    {
     "data": {
      "text/plain": [
       "0.0020297693142231417"
      ]
     },
     "execution_count": 42,
     "metadata": {},
     "output_type": "execute_result"
    }
   ],
   "source": [
    "(error*error).sum()/1271"
   ]
  },
  {
   "cell_type": "code",
   "execution_count": null,
   "id": "a0fd597e-3923-4b28-b43d-41e17c8bc298",
   "metadata": {},
   "outputs": [],
   "source": []
  },
  {
   "cell_type": "code",
   "execution_count": null,
   "id": "91016df8-96f9-47b3-b98a-5e26ba99cbdb",
   "metadata": {},
   "outputs": [],
   "source": []
  }
 ],
 "metadata": {
  "kernelspec": {
   "display_name": "Python 3 (ipykernel)",
   "language": "python",
   "name": "python3"
  },
  "language_info": {
   "codemirror_mode": {
    "name": "ipython",
    "version": 3
   },
   "file_extension": ".py",
   "mimetype": "text/x-python",
   "name": "python",
   "nbconvert_exporter": "python",
   "pygments_lexer": "ipython3",
   "version": "3.9.6"
  }
 },
 "nbformat": 4,
 "nbformat_minor": 5
}
